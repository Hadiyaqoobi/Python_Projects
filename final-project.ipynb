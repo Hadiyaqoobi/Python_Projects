{
 "cells": [
  {
   "cell_type": "markdown",
   "metadata": {},
   "source": [
    "**Importing modules and dependencies. Reading CSV data**\n",
    "."
   ]
  },
  {
   "cell_type": "code",
   "execution_count": 1,
   "metadata": {},
   "outputs": [
    {
     "name": "stdout",
     "output_type": "stream",
     "text": [
      "           timestamp                 UTC time accuracy         x         y  \\\n",
      "24325  1565110305638  2019-08-06T16:51:45.638  unknown  0.024384 -0.710709   \n",
      "24326  1565110305738  2019-08-06T16:51:45.738  unknown  0.487228 -1.099136   \n",
      "24327  1565110305838  2019-08-06T16:51:45.838  unknown  0.369446 -0.968506   \n",
      "24328  1565110305939  2019-08-06T16:51:45.939  unknown  0.167877 -0.802826   \n",
      "24329  1565110306039  2019-08-06T16:51:46.039  unknown  0.689346 -0.991043   \n",
      "\n",
      "              z  \n",
      "24325  0.030304  \n",
      "24326 -0.015213  \n",
      "24327  0.036713  \n",
      "24328  0.049805  \n",
      "24329  0.034973  \n",
      "           timestamp                 UTC time  label\n",
      "24289  1565110302030  2019-08-06T16:51:42.030      4\n",
      "24299  1565110303032  2019-08-06T16:51:43.032      4\n",
      "24309  1565110304034  2019-08-06T16:51:44.034      4\n",
      "24319  1565110305037  2019-08-06T16:51:45.037      4\n",
      "24329  1565110306039  2019-08-06T16:51:46.039      4\n"
     ]
    }
   ],
   "source": [
    "import pandas as pd\n",
    "import numpy as np\n",
    "import matplotlib.pyplot as plt\n",
    "\n",
    "from collections import Counter\n",
    "from sklearn.model_selection import cross_val_predict\n",
    "from sklearn.linear_model import LinearRegression, LogisticRegression\n",
    "from sklearn.ensemble import RandomForestRegressor, RandomForestClassifier\n",
    "from sklearn.metrics import accuracy_score, r2_score\n",
    "from datetime import datetime\n",
    "start_time = datetime.now()\n",
    "\n",
    "\n",
    "TRAIN_LABELS_FILE = 'https://courses.edx.org/assets/courseware/v1/d64e74647423e525bbeb13f2884e9cfa/asset-v1:HarvardX+PH526x+2T2020+type@asset+block/train_labels.csv'\n",
    "TRAIN_TIME_SERIES_FILE = 'https://courses.edx.org/assets/courseware/v1/b98039c3648763aae4f153a6ed32f38b/asset-v1:HarvardX+PH526x+2T2020+type@asset+block/train_time_series.csv'\n",
    "TEST_LABELS_FILE = 'https://courses.edx.org/assets/courseware/v1/72d5933c310cf5eac3fa3f28b26d9c39/asset-v1:HarvardX+PH526x+2T2020+type@asset+block/test_labels.csv'\n",
    "TEST_TIME_SERIES_FILE = 'https://courses.edx.org/assets/courseware/v1/1ca4f3d4976f07b8c4ecf99cf8f7bdbc/asset-v1:HarvardX+PH526x+2T2020+type@asset+block/test_time_series.csv'\n",
    "\n",
    "train_time_series_df = pd.read_csv(TRAIN_TIME_SERIES_FILE, index_col=0)\n",
    "train_labels_df = pd.read_csv(TRAIN_LABELS_FILE, index_col=0)\n",
    "print(train_time_series_df.tail())\n",
    "print(train_labels_df.tail())"
   ]
  },
  {
   "cell_type": "markdown",
   "metadata": {},
   "source": [
    "**Prep the data to fit the classifier with.**"
   ]
  },
  {
   "cell_type": "code",
   "execution_count": 2,
   "metadata": {},
   "outputs": [],
   "source": [
    "# Only uses the rows from the given label set to train.\n",
    "# train_data = train_time_series_df[train_time_series_df['timestamp'].isin(train_labels_df['timestamp'])]\n",
    "# X = train_data[['x', 'y', 'z']] #.iloc[::10, :]\n",
    "# y = train_labels_df['label']\n",
    "\n",
    "# Fills in '2' for rows not provided in training label set.\n",
    "# train_time_series_df['label'] = train_labels_df['label']\n",
    "# train_time_series_df['label'] = train_time_series_df['label'].fillna(2)\n",
    "\n",
    "# Fills increments of empty cells with the value from the provided cell data.\n",
    "train_time_series_df['label'] = train_labels_df['label']\n",
    "labels = []\n",
    "time_data_iterator = train_time_series_df.iterrows()\n",
    "data_index, data_row = next(time_data_iterator)\n",
    "for labels_index, labels_row in train_labels_df.iterrows():\n",
    "    while data_row['timestamp'] <= labels_row['timestamp']:\n",
    "        labels.append(labels_row['label'])\n",
    "        try:\n",
    "            data_index, data_row = next(time_data_iterator)\n",
    "        except StopIteration:\n",
    "            break\n",
    "train_time_series_df['label'] = labels\n",
    "\n",
    "# Average the (x, y, z) for each increment\n",
    "# avgs = []\n",
    "# time_data_iterator = train_time_series_df.iterrows()\n",
    "# data_index, data_row = next(time_data_iterator)\n",
    "# for labels_index, labels_row in train_labels_df.iterrows():\n",
    "#     section = []  \n",
    "#     while data_row['timestamp'] <= labels_row['timestamp']:\n",
    "#         section.append(data_row[['x','y','z']])\n",
    "#         try:\n",
    "#             data_index, data_row = next(time_data_iterator)\n",
    "#         except StopIteration:\n",
    "#             break\n",
    "#     section_df = pd.DataFrame(section, columns=['x','y','z'])\n",
    "#     avgs.append(np.mean(section_df[['x','y','z']]))\n",
    "    \n",
    "# print(avgs[8:13])\n",
    "\n",
    "# Get changes in (x, y, z) vector for each increment\n",
    "# mags = []\n",
    "# time_data_iterator = train_time_series_df.iterrows()\n",
    "# data_index, data_row = next(time_data_iterator)\n",
    "# for labels_index, labels_row in train_labels_df.iterrows():\n",
    "#     section = []  \n",
    "#     while data_row['timestamp'] <= labels_row['timestamp']:\n",
    "#         section.append(data_row[['x','y','z']])\n",
    "#         try:\n",
    "#             data_index, data_row = next(time_data_iterator)\n",
    "#         except StopIteration:\n",
    "#             break\n",
    "#     section_df = pd.DataFrame(section, columns=['x','y','z'])\n",
    "#     mags.append((np.linalg.norm(section_df[['x']]), np.linalg.norm(section_df[['y']]), np.linalg.norm(section_df[['z']])))\n",
    "# print(mags[0:5])\n",
    "\n",
    "# mags = []\n",
    "# time_data_iterator = train_time_series_df.iterrows()\n",
    "# data_index, data_row = next(time_data_iterator)\n",
    "# for labels_index, labels_row in train_labels_df.iterrows():\n",
    "#     section = []  \n",
    "#     while data_row['timestamp'] <= labels_row['timestamp']:\n",
    "#         section.append(data_row[['x','y','z']])\n",
    "#         try:\n",
    "#             data_index, data_row = next(time_data_iterator)\n",
    "#         except StopIteration:\n",
    "#             break\n",
    "#     section_df = pd.DataFrame(section, columns=['x','y','z'])\n",
    "#     mags.append((np.diff(section_df[['x']].values), np.diff(section_df[['y']].values), np.diff(section_df[['z']].values)))\n",
    "# print(mags[0:5])\n"
   ]
  },
  {
   "cell_type": "markdown",
   "metadata": {},
   "source": [
    "**Instantiate the classifier and fit it with the training data. Get the accuracy score on the training set.** Test different parameter values to tune the final model."
   ]
  },
  {
   "cell_type": "code",
   "execution_count": 3,
   "metadata": {},
   "outputs": [
    {
     "name": "stdout",
     "output_type": "stream",
     "text": [
      "0.9413333333333334\n",
      "0.6335470085470085\n"
     ]
    }
   ],
   "source": [
    "X = train_time_series_df[['x', 'y', 'z']] #[train_time_series_df['timestamp'].isin(train_labels_df['timestamp'])] #.iloc[::10, :]\n",
    "y = train_time_series_df['label']\n",
    "mX = train_time_series_df[['x', 'y', 'z']][train_time_series_df['timestamp'].isin(train_labels_df['timestamp'])] #.iloc[::10, :]\n",
    "my = train_labels_df['label']\n",
    "\n",
    "# # Test different min_samples_split values\n",
    "# min_samples_split_results = []\n",
    "# M_min_samples_split_results = []\n",
    "# for i in range(2, 10):\n",
    "#     forest_classifier = RandomForestClassifier(n_estimators=400, min_samples_split=i,random_state=0)\n",
    "#     forest_classifier.fit(X,y)\n",
    "#     M_min_samples_split_results.append(accuracy_score(my, forest_classifier.predict(mX)))\n",
    "#     min_samples_split_results.append(accuracy_score(y, forest_classifier.predict(X)))\n",
    "\n",
    "# xlabels = list(range(2,10))\n",
    "# plt.plot(xlabels, min_samples_split_results, 'b')\n",
    "# plt.plot(xlabels, M_min_samples_split_results, 'r')\n",
    "# plt.show()\n",
    "    \n",
    "# # Test different max_depth values \n",
    "# max_depth_split_results = []\n",
    "# M_max_depth_split_results = []\n",
    "# for i in range(2, 16):\n",
    "#     forest_classifier = RandomForestClassifier(n_estimators=400, min_samples_split=20, max_depth=i,random_state=0)\n",
    "#     forest_classifier.fit(X,y)\n",
    "#     M_max_depth_split_results.append(accuracy_score(my, forest_classifier.predict(mX)))\n",
    "#     max_depth_split_results.append(accuracy_score(y, forest_classifier.predict(X)))\n",
    "\n",
    "# xlabels = list(range(2,16))\n",
    "# plt.plot(xlabels, max_depth_split_results, 'b')\n",
    "# plt.plot(xlabels, M_max_depth_split_results, 'r')\n",
    "# plt.show()\n",
    "\n",
    "# Final model\n",
    "# forest_classifier = RandomForestClassifier(n_estimators=400, min_samples_split=4, max_depth=16, random_state=0)\n",
    "# forest_classifier.fit(X,y)\n",
    "\n",
    "forest_classifier = RandomForestClassifier(n_estimators=400,min_samples_split=6, max_depth=14, random_state=0)\n",
    "forest_classifier.fit(mX,my)\n",
    "\n",
    "print(accuracy_score(my, forest_classifier.predict(mX)))\n",
    "print(accuracy_score(y, forest_classifier.predict(X)))\n",
    "\n"
   ]
  },
  {
   "cell_type": "markdown",
   "metadata": {},
   "source": [
    "**Get predictions with the trained model.**"
   ]
  },
  {
   "cell_type": "code",
   "execution_count": 5,
   "metadata": {},
   "outputs": [
    {
     "ename": "NameError",
     "evalue": "name 'test_labels_df' is not defined",
     "output_type": "error",
     "traceback": [
      "\u001b[0;31m---------------------------------------------------------------------------\u001b[0m",
      "\u001b[0;31mNameError\u001b[0m                                 Traceback (most recent call last)",
      "\u001b[0;32m<ipython-input-5-4301ace9ec79>\u001b[0m in \u001b[0;36m<module>\u001b[0;34m\u001b[0m\n\u001b[1;32m      2\u001b[0m \u001b[0mtest_labels\u001b[0m \u001b[0;34m=\u001b[0m \u001b[0mpd\u001b[0m\u001b[0;34m.\u001b[0m\u001b[0mread_csv\u001b[0m\u001b[0;34m(\u001b[0m\u001b[0mTEST_LABELS_FILE\u001b[0m\u001b[0;34m,\u001b[0m \u001b[0mindex_col\u001b[0m\u001b[0;34m=\u001b[0m\u001b[0;36m0\u001b[0m\u001b[0;34m)\u001b[0m\u001b[0;34m\u001b[0m\u001b[0;34m\u001b[0m\u001b[0m\n\u001b[1;32m      3\u001b[0m \u001b[0;34m\u001b[0m\u001b[0m\n\u001b[0;32m----> 4\u001b[0;31m \u001b[0mtest_data\u001b[0m \u001b[0;34m=\u001b[0m \u001b[0mtest_data_df\u001b[0m\u001b[0;34m[\u001b[0m\u001b[0mtest_data_df\u001b[0m\u001b[0;34m[\u001b[0m\u001b[0;34m'timestamp'\u001b[0m\u001b[0;34m]\u001b[0m\u001b[0;34m.\u001b[0m\u001b[0misin\u001b[0m\u001b[0;34m(\u001b[0m\u001b[0mtest_labels_df\u001b[0m\u001b[0;34m[\u001b[0m\u001b[0;34m'timestamp'\u001b[0m\u001b[0;34m]\u001b[0m\u001b[0;34m)\u001b[0m\u001b[0;34m]\u001b[0m\u001b[0;34m\u001b[0m\u001b[0;34m\u001b[0m\u001b[0m\n\u001b[0m\u001b[1;32m      5\u001b[0m \u001b[0mtest_data\u001b[0m \u001b[0;34m=\u001b[0m \u001b[0mtest_data\u001b[0m\u001b[0;34m[\u001b[0m\u001b[0;34m[\u001b[0m\u001b[0;34m'x'\u001b[0m\u001b[0;34m,\u001b[0m \u001b[0;34m'y'\u001b[0m\u001b[0;34m,\u001b[0m \u001b[0;34m'z'\u001b[0m\u001b[0;34m]\u001b[0m\u001b[0;34m]\u001b[0m\u001b[0;34m\u001b[0m\u001b[0;34m\u001b[0m\u001b[0m\n\u001b[1;32m      6\u001b[0m \u001b[0;34m\u001b[0m\u001b[0m\n",
      "\u001b[0;31mNameError\u001b[0m: name 'test_labels_df' is not defined"
     ]
    }
   ],
   "source": [
    "test_data_df = pd.read_csv(TEST_TIME_SERIES_FILE, index_col=0)\n",
    "test_labels = pd.read_csv(TEST_LABELS_FILE, index_col=0)\n",
    "\n",
    "test_data = test_data_df[test_data_df['timestamp'].isin(test_labels_df['timestamp'])]\n",
    "test_data = test_data[['x', 'y', 'z']]\n",
    "\n",
    "predictions = forest_classifier.predict(test_data)\n",
    "# Print mean and counts for reference\n",
    "print(np.mean(predictions))\n",
    "print(Counter(predictions))\n",
    "print(len(predictions))\n",
    "\n",
    "# Plot values \n",
    "labels, values = zip(*Counter(predictions).items())\n",
    "plt.scatter(labels, values)\n",
    "plt.xticks(labels, labels)"
   ]
  },
  {
   "cell_type": "markdown",
   "metadata": {},
   "source": [
    "**Save the predictions to the test labels CSV file.**"
   ]
  },
  {
   "cell_type": "code",
   "execution_count": 6,
   "metadata": {},
   "outputs": [
    {
     "ename": "NameError",
     "evalue": "name 'predictions' is not defined",
     "output_type": "error",
     "traceback": [
      "\u001b[0;31m---------------------------------------------------------------------------\u001b[0m",
      "\u001b[0;31mNameError\u001b[0m                                 Traceback (most recent call last)",
      "\u001b[0;32m<ipython-input-6-383e47b50fc9>\u001b[0m in \u001b[0;36m<module>\u001b[0;34m\u001b[0m\n\u001b[0;32m----> 1\u001b[0;31m \u001b[0mtest_labels\u001b[0m\u001b[0;34m[\u001b[0m\u001b[0;34m'label'\u001b[0m\u001b[0;34m]\u001b[0m \u001b[0;34m=\u001b[0m \u001b[0mpredictions\u001b[0m\u001b[0;34m\u001b[0m\u001b[0;34m\u001b[0m\u001b[0m\n\u001b[0m\u001b[1;32m      2\u001b[0m \u001b[0mtest_labels\u001b[0m\u001b[0;34m.\u001b[0m\u001b[0mto_csv\u001b[0m\u001b[0;34m(\u001b[0m\u001b[0;34m'./final-project/data/test_labels.csv'\u001b[0m\u001b[0;34m)\u001b[0m\u001b[0;34m\u001b[0m\u001b[0;34m\u001b[0m\u001b[0m\n\u001b[1;32m      3\u001b[0m \u001b[0;32mfor\u001b[0m \u001b[0mx\u001b[0m \u001b[0;32min\u001b[0m \u001b[0mpredictions\u001b[0m\u001b[0;34m:\u001b[0m\u001b[0;34m\u001b[0m\u001b[0;34m\u001b[0m\u001b[0m\n\u001b[1;32m      4\u001b[0m     \u001b[0mprint\u001b[0m\u001b[0;34m(\u001b[0m\u001b[0;34mf'{x}, '\u001b[0m\u001b[0;34m,\u001b[0m \u001b[0mend\u001b[0m\u001b[0;34m=\u001b[0m\u001b[0;34m''\u001b[0m\u001b[0;34m)\u001b[0m\u001b[0;34m\u001b[0m\u001b[0;34m\u001b[0m\u001b[0m\n",
      "\u001b[0;31mNameError\u001b[0m: name 'predictions' is not defined"
     ]
    }
   ],
   "source": [
    "test_labels['label'] = predictions\n",
    "test_labels.to_csv('./final-project/data/test_labels.csv')\n",
    "for x in predictions:\n",
    "    print(f'{x}, ', end='')"
   ]
  },
  {
   "cell_type": "code",
   "execution_count": 7,
   "metadata": {},
   "outputs": [
    {
     "name": "stdout",
     "output_type": "stream",
     "text": [
      "0:00:39.500778\n"
     ]
    }
   ],
   "source": [
    "print(datetime.now() - start_time)"
   ]
  },
  {
   "cell_type": "code",
   "execution_count": null,
   "metadata": {},
   "outputs": [],
   "source": []
  },
  {
   "cell_type": "code",
   "execution_count": null,
   "metadata": {},
   "outputs": [],
   "source": []
  }
 ],
 "metadata": {
  "kernelspec": {
   "display_name": "Python 3",
   "language": "python",
   "name": "python3"
  },
  "language_info": {
   "codemirror_mode": {
    "name": "ipython",
    "version": 3
   },
   "file_extension": ".py",
   "mimetype": "text/x-python",
   "name": "python",
   "nbconvert_exporter": "python",
   "pygments_lexer": "ipython3",
   "version": "3.8.5"
  }
 },
 "nbformat": 4,
 "nbformat_minor": 5
}
